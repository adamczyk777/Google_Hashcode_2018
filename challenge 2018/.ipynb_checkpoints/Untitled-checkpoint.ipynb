{
 "cells": [
  {
   "cell_type": "code",
   "execution_count": 1,
   "metadata": {
    "collapsed": true
   },
   "outputs": [],
   "source": [
    "import numpy as np\n",
    "import pandas as pd"
   ]
  },
  {
   "cell_type": "code",
   "execution_count": 20,
   "metadata": {
    "collapsed": true
   },
   "outputs": [],
   "source": [
    "# Load dataset\n",
    "input = open('a_example.in', 'r')\n",
    "text = input.read()"
   ]
  },
  {
   "cell_type": "code",
   "execution_count": 21,
   "metadata": {},
   "outputs": [
    {
     "name": "stdout",
     "output_type": "stream",
     "text": [
      "3 4 2 3 2 10\n",
      "0 0 1 3 2 9\n",
      "1 2 1 0 0 9\n",
      "2 0 2 2 0 9\n",
      "\n"
     ]
    }
   ],
   "source": [
    "# Take a look\n",
    "print(text)"
   ]
  },
  {
   "cell_type": "code",
   "execution_count": 37,
   "metadata": {
    "collapsed": true
   },
   "outputs": [],
   "source": [
    "# Load info about dataset\n",
    "data_set = text.split('\\n')\n",
    "data_set_info = data_set[0]\n",
    "data_set_info = data_set_info.split(' ')\n",
    "\n",
    "R = int(data_set_info[0])          # number of rows of the grid \n",
    "C = int(data_set_info[1])          # number of columns of the grid \n",
    "F = int(data_set_info[2])          # number of vehicles in the fleet\n",
    "N = int(data_set_info[3])          # number of rides\n",
    "B = int(data_set_info[4])          # per-ride bonus for starting the ride on time\n",
    "T = int(data_set_info[5])          # number of steps in the simulation"
   ]
  },
  {
   "cell_type": "code",
   "execution_count": 38,
   "metadata": {},
   "outputs": [
    {
     "data": {
      "text/plain": [
       "10"
      ]
     },
     "execution_count": 38,
     "metadata": {},
     "output_type": "execute_result"
    }
   ],
   "source": [
    "T"
   ]
  },
  {
   "cell_type": "code",
   "execution_count": 41,
   "metadata": {},
   "outputs": [],
   "source": [
    "# Build numpy array to hold info about rides\n",
    "rides = []\n",
    "\n",
    "for i in range(1, N + 1):\n",
    "    single_ride = np.asarray(list(map(int, data_set[i].split(' '))))\n",
    "    route = abs(single_ride[0] - single_ride[2]) + abs(single_ride[1] - single_ride[3])\n",
    "    latest_start = single_ride[5] - route\n",
    "    erliest_finish = single_ride[4] + route\n",
    "    single_ride = np.append(single_ride, [route, erliest_finish, latest_start])\n",
    "    rides.append(single_ride)\n",
    "rides = np.asarray(rides)"
   ]
  },
  {
   "cell_type": "code",
   "execution_count": 42,
   "metadata": {},
   "outputs": [
    {
     "data": {
      "text/plain": [
       "array([[0, 0, 1, 3, 2, 9, 4, 6, 5],\n",
       "       [1, 2, 1, 0, 0, 9, 2, 2, 7],\n",
       "       [2, 0, 2, 2, 0, 9, 2, 2, 7]])"
      ]
     },
     "execution_count": 42,
     "metadata": {},
     "output_type": "execute_result"
    }
   ],
   "source": [
    "rides"
   ]
  },
  {
   "cell_type": "code",
   "execution_count": 43,
   "metadata": {
    "collapsed": true
   },
   "outputs": [],
   "source": [
    "# [a, b, x, y, s, f]\n",
    "\n",
    "# a  – the row of the start intersection\n",
    "# b  – the column of the start intersection \n",
    "# x  – the row of the finish intersection\n",
    "# y  – the column of the finish intersection\n",
    "# s  – the earliest start\n",
    "# f  – the latest finish\n",
    "\n",
    "# r  - route length\n",
    "# ef - the earliest finish\n",
    "# ls - the latest start"
   ]
  },
  {
   "cell_type": "code",
   "execution_count": 19,
   "metadata": {},
   "outputs": [
    {
     "data": {
      "text/plain": [
       "1"
      ]
     },
     "execution_count": 19,
     "metadata": {},
     "output_type": "execute_result"
    }
   ],
   "source": [
    "rides"
   ]
  },
  {
   "cell_type": "code",
   "execution_count": 45,
   "metadata": {
    "collapsed": true
   },
   "outputs": [],
   "source": [
    "def routeToClien(r_taxi, c_taxi, r_client, c_client):\n",
    "    return abs(r_taxi - r_client) + abs(c_taxi - c_client)"
   ]
  },
  {
   "cell_type": "code",
   "execution_count": null,
   "metadata": {
    "collapsed": true
   },
   "outputs": [],
   "source": [
    "def costFunction(nwcs, npcs, ts, route, bonus):\n",
    "    if(nwcs - ts >= dr):\n",
    "        return(nwcs -ts -bonus)\n",
    "    elif(npcs - ts >= dr):\n",
    "        return(dr)\n",
    "    else:\n",
    "        1000000000000"
   ]
  }
 ],
 "metadata": {
  "kernelspec": {
   "display_name": "Python 3",
   "language": "python",
   "name": "python3"
  },
  "language_info": {
   "codemirror_mode": {
    "name": "ipython",
    "version": 3
   },
   "file_extension": ".py",
   "mimetype": "text/x-python",
   "name": "python",
   "nbconvert_exporter": "python",
   "pygments_lexer": "ipython3",
   "version": "3.6.3"
  }
 },
 "nbformat": 4,
 "nbformat_minor": 2
}
